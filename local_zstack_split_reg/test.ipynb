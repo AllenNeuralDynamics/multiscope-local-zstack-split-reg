{
 "cells": [
  {
   "cell_type": "code",
   "execution_count": 1,
   "metadata": {},
   "outputs": [],
   "source": [
    "from pathlib import Path\n",
    "from local_zstack_split_reg import zstack_processing as zp\n",
    "\n",
    "%load_ext autoreload\n",
    "%autoreload 2\n"
   ]
  },
  {
   "cell_type": "code",
   "execution_count": 2,
   "metadata": {},
   "outputs": [],
   "source": [
    "raw_fns = [r\"\\\\meso2acq\\D\\scanimage_ophys\\data\\1431960307\\1431960307_local_z_stack3.tiff\",\n",
    "           r\"\\\\meso2acq\\D\\scanimage_ophys\\data\\1431960307\\1431960307_local_z_stack0.tiff\",\n",
    "           r\"\\\\meso2acq\\D\\scanimage_ophys\\data\\1431960307\\1431960307_local_z_stack1.tiff\",\n",
    "           r\"\\\\meso2acq\\D\\scanimage_ophys\\data\\1431960307\\1431960307_local_z_stack2.tiff\"]"
   ]
  },
  {
   "cell_type": "code",
   "execution_count": 3,
   "metadata": {},
   "outputs": [],
   "source": [
    "zstack_reg, channels_saved = zp.register_local_zstack_from_raw_tif(raw_fns[0], parallel=True)"
   ]
  }
 ],
 "metadata": {
  "kernelspec": {
   "display_name": "aind_local_zstack_reg_raw",
   "language": "python",
   "name": "python3"
  },
  "language_info": {
   "codemirror_mode": {
    "name": "ipython",
    "version": 3
   },
   "file_extension": ".py",
   "mimetype": "text/x-python",
   "name": "python",
   "nbconvert_exporter": "python",
   "pygments_lexer": "ipython3",
   "version": "3.9.5"
  }
 },
 "nbformat": 4,
 "nbformat_minor": 2
}
